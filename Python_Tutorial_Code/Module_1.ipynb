{
 "cells": [
  {
   "cell_type": "code",
   "execution_count": 3,
   "id": "f05e2f4f",
   "metadata": {},
   "outputs": [
    {
     "name": "stdout",
     "output_type": "stream",
     "text": [
      "7\n"
     ]
    }
   ],
   "source": [
    "x = 4\n",
    "y = 3\n",
    "z = x + y\n",
    "print(z)\n",
    "\n"
   ]
  },
  {
   "cell_type": "code",
   "execution_count": 4,
   "id": "1aa8be32",
   "metadata": {},
   "outputs": [
    {
     "name": "stdout",
     "output_type": "stream",
     "text": [
      "5\n"
     ]
    }
   ],
   "source": [
    "i = 1\n",
    "j = 4\n",
    "print (i + j)\n"
   ]
  },
  {
   "cell_type": "code",
   "execution_count": 21,
   "id": "5045b2f2",
   "metadata": {},
   "outputs": [
    {
     "data": {
      "text/plain": [
       "'50'"
      ]
     },
     "execution_count": 21,
     "metadata": {},
     "output_type": "execute_result"
    }
   ],
   "source": [
    "x=5\n",
    "y=10\n",
    "z=x*y\n",
    "z=str(z)\n",
    "z\n",
    "\n",
    "\n"
   ]
  },
  {
   "cell_type": "code",
   "execution_count": 23,
   "id": "b69a6a18",
   "metadata": {},
   "outputs": [
    {
     "data": {
      "text/plain": [
       "12"
      ]
     },
     "execution_count": 23,
     "metadata": {},
     "output_type": "execute_result"
    }
   ],
   "source": [
    "a=2\n",
    "b=6\n",
    "c=a*b\n",
    "c"
   ]
  },
  {
   "cell_type": "code",
   "execution_count": 26,
   "id": "5b1d1ccd",
   "metadata": {},
   "outputs": [
    {
     "data": {
      "text/plain": [
       "12.56"
      ]
     },
     "execution_count": 26,
     "metadata": {},
     "output_type": "execute_result"
    }
   ],
   "source": [
    "radius=2\n",
    "pi=3.14\n",
    "area=pi*(radius**2)\n",
    "area"
   ]
  },
  {
   "cell_type": "code",
   "execution_count": 32,
   "id": "2e065553",
   "metadata": {},
   "outputs": [
    {
     "data": {
      "text/plain": [
       "'Hi I am Louise'"
      ]
     },
     "execution_count": 32,
     "metadata": {},
     "output_type": "execute_result"
    }
   ],
   "source": [
    "p1=\"Hi I am\"\n",
    "\n",
    "p2=\"Louise\"\n",
    "cp=f\"{p1} {p2}\"\n",
    "cp"
   ]
  },
  {
   "cell_type": "code",
   "execution_count": null,
   "id": "f681fbde",
   "metadata": {},
   "outputs": [
    {
     "data": {
      "text/plain": [
       "'iIa oie'"
      ]
     },
     "execution_count": 37,
     "metadata": {},
     "output_type": "execute_result"
    }
   ],
   "source": [
    "cp[1::2]\n",
    "#python starts at zero, the words for position in python is index\n",
    "\n",
    "filename=\"ssda903_list1_csv\"\n",
    "fn=filename[:-4]\n"
   ]
  },
  {
   "cell_type": "code",
   "execution_count": 48,
   "id": "90813f23",
   "metadata": {},
   "outputs": [
    {
     "name": "stdout",
     "output_type": "stream",
     "text": [
      "dog \n",
      "cat\n",
      "racoon\n"
     ]
    }
   ],
   "source": [
    "phrase_3=\"dog cat racoon\"\n",
    "d=phrase_3[:4]\n",
    "c=phrase_3[4:7]\n",
    "r=phrase_3[-6:]\n",
    "print(d)\n",
    "print(c)\n",
    "print(r)"
   ]
  },
  {
   "cell_type": "code",
   "execution_count": 2,
   "id": "4e802851",
   "metadata": {},
   "outputs": [],
   "source": [
    "var_1 = 10 #integer\n",
    "Var_2=10.10 #float - number wih decimals\n",
    "var_3=\"10\" #string\n",
    "\n",
    "\n",
    "\n"
   ]
  },
  {
   "cell_type": "code",
   "execution_count": 11,
   "id": "bf2b5c92",
   "metadata": {},
   "outputs": [
    {
     "data": {
      "text/plain": [
       "list"
      ]
     },
     "execution_count": 11,
     "metadata": {},
     "output_type": "execute_result"
    }
   ],
   "source": [
    "#Lists - allow us to store lists of variables, indexed can be searched sorted\n",
    "#column names often lists\n",
    "\n",
    "#Dictionary - store variables in one object names (keys): value\n",
    "#filename<- keys, xlsx <-values\n",
    "#variable cant start with a number\n",
    "\n",
    "list_1=[\"hi\", \"Bye\"] #,-empty\n",
    "\n",
    "type(list_1)"
   ]
  },
  {
   "cell_type": "code",
   "execution_count": 10,
   "id": "195a24a4",
   "metadata": {},
   "outputs": [
    {
     "data": {
      "text/plain": [
       "['red', 'blue', 'green']"
      ]
     },
     "execution_count": 10,
     "metadata": {},
     "output_type": "execute_result"
    }
   ],
   "source": [
    "#lists keep their order(unless you change them)\n",
    "list_2=[10, 12, 9]\n",
    "\n",
    "list_2\n",
    "\n",
    "cols_1=[\"red\", \"blue\", \"green\"]\n",
    "\n",
    "cols_1"
   ]
  },
  {
   "cell_type": "code",
   "execution_count": null,
   "id": "c8b61d88",
   "metadata": {},
   "outputs": [
    {
     "data": {
      "text/plain": [
       "[2.2, 4]"
      ]
     },
     "execution_count": 20,
     "metadata": {},
     "output_type": "execute_result"
    }
   ],
   "source": [
    "List_3=[2.2, 4, \"red\"]\n",
    "List_3\n",
    "\n",
    "List_3[:2]\n",
    "\n",
    "#extends a list by indexcable elemnts of a string\n",
    "#append the whole thing to one elemnt"
   ]
  },
  {
   "cell_type": "code",
   "execution_count": 35,
   "id": "732547ba",
   "metadata": {},
   "outputs": [
    {
     "name": "stdout",
     "output_type": "stream",
     "text": [
      "['egg', 'bacon', 'chips']\n",
      "['egg', 'bacon', 'chips', 'beans']\n",
      "['egg', 'bacon', 'chips', 'beans', 'tomato', 'lettuce', 'onion']\n",
      "['egg', 'bacon', 'chips', 'beans', 'tomato', 'lettuce']\n"
     ]
    }
   ],
   "source": [
    "Foods_1=[\"egg\", \"bacon\", \"chips\"]\n",
    "print(Foods_1)\n",
    "Foods_1.append(\"beans\")\n",
    "print(Foods_1)\n",
    "Foods_2=[\"tomato\", \"lettuce\", \"onion\"]\n",
    "Foods_1.extend(Foods_2)\n",
    "print(Foods_1)\n",
    "\n",
    "Foods_1.remove(\"onion\")\n",
    "print(Foods_1)\n"
   ]
  },
  {
   "cell_type": "code",
   "execution_count": 54,
   "id": "b06452d0",
   "metadata": {},
   "outputs": [
    {
     "name": "stdout",
     "output_type": "stream",
     "text": [
      "['chicken', 'wraps']\n",
      "dict_values(['pasta', ['chicken', 'wraps'], {'monday': 'burgers', 'ROW': 'chips'}])\n",
      "dict_keys(['porto', 'KFC', 'Mcdonalds'])\n",
      "dict_items([('porto', 'pasta'), ('KFC', ['chicken', 'wraps']), ('Mcdonalds', {'monday': 'burgers', 'ROW': 'chips'})])\n"
     ]
    }
   ],
   "source": [
    "#keys : values\n",
    "Rest = {\"porto\":\"pasta\",\n",
    "        \"KFC\":[\"chicken\",\"wraps\"],\n",
    "        \"Mcdonalds\":{\"monday\":\"burgers\", \"ROW\":\"chips\"}}\n",
    "\n",
    "print(Rest[\"KFC\"])\n",
    "print(Rest.values())\n",
    "print(Rest.keys())\n",
    "print(Rest.items())\n"
   ]
  },
  {
   "cell_type": "code",
   "execution_count": null,
   "id": "23c11c7b",
   "metadata": {},
   "outputs": [
    {
     "name": "stdout",
     "output_type": "stream",
     "text": [
      "{'porto': 'pasta', 'KFC': ['chicken', 'wraps'], 'Mcdonalds': {'monday': 'burgers', 'ROW': 'chips'}, 'chippy': 'sausage'}\n",
      "['chicken', 'wraps']\n",
      "False\n"
     ]
    }
   ],
   "source": [
    "\n",
    "\n",
    "print(Rest)\n",
    "Rest[\"chippy\"]=\"sausage\" #add chippy to list\n",
    "print(Rest[\"KFC\"]) # add values \n",
    "print(\"coffee shop\" in Rest) # check if in list\n"
   ]
  },
  {
   "cell_type": "code",
   "execution_count": 37,
   "id": "90880305",
   "metadata": {},
   "outputs": [],
   "source": [
    "#pandas - package for python\n",
    "import pandas as pd #import with alias\n",
    "filepath =r\"https://raw.githubusercontent.com/data-to-insight/ERN-sessions/main/data/1980%202023%20average%20house%20prices.csv\"\n",
    "house_prices = pd.read_csv(filepath)\n",
    "\n",
    "#IF READING AN EXCEL pd.read_excel()\n",
    "\n",
    "house_prices\n",
    "#print(house_prices.info())\n",
    "#print(house_prices.head())\n",
    "#print(house_prices.tail())\n",
    "type(house_prices) # Dataframes or DF\n",
    "house_prices[\"Period\"]\n",
    "\n",
    "#datetime objects\n",
    "#format argument for date time strftimes\n",
    "#01/01/2025 %d/%m/%Y\n",
    "#01/01/25 %d/%m/%y\n",
    "house_prices[\"period_dt\"]=pd.to_datetime(house_prices[\"Period\"],format=\"%Y-%m\")\n",
    "house_prices.dtypes\n",
    "# sum, mean, median, min, max\n",
    "house_prices_monthly_change_sum=house_prices[\"Percentage change (monthly) All property types\"].sum()\n",
    "\n"
   ]
  },
  {
   "cell_type": "code",
   "execution_count": null,
   "id": "314ab695",
   "metadata": {},
   "outputs": [
    {
     "ename": "SyntaxError",
     "evalue": "invalid syntax. Maybe you meant '==' or ':=' instead of '='? (3940303687.py, line 12)",
     "output_type": "error",
     "traceback": [
      "  \u001b[36mCell\u001b[39m\u001b[36m \u001b[39m\u001b[32mIn[33]\u001b[39m\u001b[32m, line 12\u001b[39m\n\u001b[31m    \u001b[39m\u001b[31mchild_data[\"ExpectedPersonBirthDate-dt\"]=pd.to_datetime[child_data[\"ExpectedPersonBirthDate-dt\"],format=\"%y%m%d\"]\u001b[39m\n                                                                                                     ^\n\u001b[31mSyntaxError\u001b[39m\u001b[31m:\u001b[39m invalid syntax. Maybe you meant '==' or ':=' instead of '='?\n"
     ]
    }
   ],
   "source": [
    "filepath1=r\"https://raw.githubusercontent.com/data-to-insight/ERN-sessions/main/data/ChildIdentifiers.csv\"\n",
    "child_data=pd.read_csv (filepath1)\n",
    "\n",
    "#child_data\n",
    "\n",
    "print(child_data.info)\n",
    "#print(child_data.head(10))\n",
    "#print(child_data.tail(5))\n",
    "#type(child_data)\n",
    "#child_data[\"Period\"]\n",
    "#child_data[\"PersonBirthDate_dt\"]=pd.to_datetime(child_data[\"PersonBirthDate\"],format=\"%Y-%m-%d\")\n",
    "\n",
    "#child_data.dtypes\n",
    "#child_data.info\n"
   ]
  },
  {
   "cell_type": "code",
   "execution_count": null,
   "id": "6408da86",
   "metadata": {},
   "outputs": [
    {
     "name": "stdout",
     "output_type": "stream",
     "text": [
      "The sum of percentage changes in house prices across all months is 623.29\n",
      "Max price: 292187, \n",
      "Min price: 19273\n",
      "Median price: 97964.0, \n",
      "Mean price: 120570.55831739961\n"
     ]
    },
    {
     "data": {
      "text/html": [
       "<div>\n",
       "<style scoped>\n",
       "    .dataframe tbody tr th:only-of-type {\n",
       "        vertical-align: middle;\n",
       "    }\n",
       "\n",
       "    .dataframe tbody tr th {\n",
       "        vertical-align: top;\n",
       "    }\n",
       "\n",
       "    .dataframe thead th {\n",
       "        text-align: right;\n",
       "    }\n",
       "</style>\n",
       "<table border=\"1\" class=\"dataframe\">\n",
       "  <thead>\n",
       "    <tr style=\"text-align: right;\">\n",
       "      <th></th>\n",
       "      <th>Name</th>\n",
       "      <th>Period</th>\n",
       "      <th>House price index All property types</th>\n",
       "      <th>Average price All property types</th>\n",
       "      <th>Percentage change (monthly) All property types</th>\n",
       "      <th>Percentage change (yearly) All property types</th>\n",
       "      <th>period_dt</th>\n",
       "    </tr>\n",
       "  </thead>\n",
       "  <tbody>\n",
       "    <tr>\n",
       "      <th>0</th>\n",
       "      <td>United Kingdom</td>\n",
       "      <td>1980-01</td>\n",
       "      <td>10.11</td>\n",
       "      <td>19273</td>\n",
       "      <td>3.94</td>\n",
       "      <td>28.59</td>\n",
       "      <td>1980-01-01</td>\n",
       "    </tr>\n",
       "    <tr>\n",
       "      <th>1</th>\n",
       "      <td>United Kingdom</td>\n",
       "      <td>1980-02</td>\n",
       "      <td>10.11</td>\n",
       "      <td>19273</td>\n",
       "      <td>3.94</td>\n",
       "      <td>28.59</td>\n",
       "      <td>1980-02-01</td>\n",
       "    </tr>\n",
       "    <tr>\n",
       "      <th>2</th>\n",
       "      <td>United Kingdom</td>\n",
       "      <td>1980-03</td>\n",
       "      <td>10.11</td>\n",
       "      <td>19273</td>\n",
       "      <td>3.94</td>\n",
       "      <td>28.59</td>\n",
       "      <td>1980-03-01</td>\n",
       "    </tr>\n",
       "    <tr>\n",
       "      <th>3</th>\n",
       "      <td>United Kingdom</td>\n",
       "      <td>1980-04</td>\n",
       "      <td>10.51</td>\n",
       "      <td>20044</td>\n",
       "      <td>4.00</td>\n",
       "      <td>24.15</td>\n",
       "      <td>1980-04-01</td>\n",
       "    </tr>\n",
       "    <tr>\n",
       "      <th>4</th>\n",
       "      <td>United Kingdom</td>\n",
       "      <td>1980-05</td>\n",
       "      <td>10.51</td>\n",
       "      <td>20044</td>\n",
       "      <td>4.00</td>\n",
       "      <td>24.15</td>\n",
       "      <td>1980-05-01</td>\n",
       "    </tr>\n",
       "    <tr>\n",
       "      <th>...</th>\n",
       "      <td>...</td>\n",
       "      <td>...</td>\n",
       "      <td>...</td>\n",
       "      <td>...</td>\n",
       "      <td>...</td>\n",
       "      <td>...</td>\n",
       "      <td>...</td>\n",
       "    </tr>\n",
       "    <tr>\n",
       "      <th>269</th>\n",
       "      <td>United Kingdom</td>\n",
       "      <td>2002-06</td>\n",
       "      <td>59.43</td>\n",
       "      <td>113304</td>\n",
       "      <td>4.09</td>\n",
       "      <td>17.41</td>\n",
       "      <td>2002-06-01</td>\n",
       "    </tr>\n",
       "    <tr>\n",
       "      <th>270</th>\n",
       "      <td>United Kingdom</td>\n",
       "      <td>2002-07</td>\n",
       "      <td>59.90</td>\n",
       "      <td>114214</td>\n",
       "      <td>0.80</td>\n",
       "      <td>14.25</td>\n",
       "      <td>2002-07-01</td>\n",
       "    </tr>\n",
       "    <tr>\n",
       "      <th>271</th>\n",
       "      <td>United Kingdom</td>\n",
       "      <td>2002-08</td>\n",
       "      <td>61.23</td>\n",
       "      <td>116743</td>\n",
       "      <td>2.21</td>\n",
       "      <td>16.78</td>\n",
       "      <td>2002-08-01</td>\n",
       "    </tr>\n",
       "    <tr>\n",
       "      <th>272</th>\n",
       "      <td>United Kingdom</td>\n",
       "      <td>2002-09</td>\n",
       "      <td>62.72</td>\n",
       "      <td>119576</td>\n",
       "      <td>2.43</td>\n",
       "      <td>19.61</td>\n",
       "      <td>2002-09-01</td>\n",
       "    </tr>\n",
       "    <tr>\n",
       "      <th>273</th>\n",
       "      <td>United Kingdom</td>\n",
       "      <td>2002-10</td>\n",
       "      <td>63.19</td>\n",
       "      <td>120486</td>\n",
       "      <td>0.76</td>\n",
       "      <td>22.99</td>\n",
       "      <td>2002-10-01</td>\n",
       "    </tr>\n",
       "  </tbody>\n",
       "</table>\n",
       "<p>274 rows × 7 columns</p>\n",
       "</div>"
      ],
      "text/plain": [
       "               Name   Period  House price index All property types  \\\n",
       "0    United Kingdom  1980-01                                 10.11   \n",
       "1    United Kingdom  1980-02                                 10.11   \n",
       "2    United Kingdom  1980-03                                 10.11   \n",
       "3    United Kingdom  1980-04                                 10.51   \n",
       "4    United Kingdom  1980-05                                 10.51   \n",
       "..              ...      ...                                   ...   \n",
       "269  United Kingdom  2002-06                                 59.43   \n",
       "270  United Kingdom  2002-07                                 59.90   \n",
       "271  United Kingdom  2002-08                                 61.23   \n",
       "272  United Kingdom  2002-09                                 62.72   \n",
       "273  United Kingdom  2002-10                                 63.19   \n",
       "\n",
       "     Average price All property types  \\\n",
       "0                               19273   \n",
       "1                               19273   \n",
       "2                               19273   \n",
       "3                               20044   \n",
       "4                               20044   \n",
       "..                                ...   \n",
       "269                            113304   \n",
       "270                            114214   \n",
       "271                            116743   \n",
       "272                            119576   \n",
       "273                            120486   \n",
       "\n",
       "     Percentage change (monthly) All property types  \\\n",
       "0                                              3.94   \n",
       "1                                              3.94   \n",
       "2                                              3.94   \n",
       "3                                              4.00   \n",
       "4                                              4.00   \n",
       "..                                              ...   \n",
       "269                                            4.09   \n",
       "270                                            0.80   \n",
       "271                                            2.21   \n",
       "272                                            2.43   \n",
       "273                                            0.76   \n",
       "\n",
       "     Percentage change (yearly) All property types  period_dt  \n",
       "0                                            28.59 1980-01-01  \n",
       "1                                            28.59 1980-02-01  \n",
       "2                                            28.59 1980-03-01  \n",
       "3                                            24.15 1980-04-01  \n",
       "4                                            24.15 1980-05-01  \n",
       "..                                             ...        ...  \n",
       "269                                          17.41 2002-06-01  \n",
       "270                                          14.25 2002-07-01  \n",
       "271                                          16.78 2002-08-01  \n",
       "272                                          19.61 2002-09-01  \n",
       "273                                          22.99 2002-10-01  \n",
       "\n",
       "[274 rows x 7 columns]"
      ]
     },
     "execution_count": 40,
     "metadata": {},
     "output_type": "execute_result"
    }
   ],
   "source": [
    "house_prices_monthly_change_sum=house_prices[\"Percentage change (monthly) All property types\"].sum()\n",
    "house_prices\n",
    "\n",
    "house_prices_monthly_change_sum = house_prices[\"Percentage change (monthly) All property types\"].sum()\n",
    "print(f\"The sum of percentage changes in house prices across all months is {house_prices_monthly_change_sum}\")\n",
    "\n",
    "max_price = house_prices[\"Average price All property types\"].max()\n",
    "min_price = house_prices[\"Average price All property types\"].min()\n",
    "\n",
    "print(f\"Max price: {max_price}, \\nMin price: {min_price}\")\n",
    "\n",
    "\n",
    "\n",
    "less_than_mean = house_prices[condition]median_price = house_prices[\"Average price All property types\"].median()\n",
    "mean_price = house_prices[\"Average price All property types\"].mean()\n",
    "\n",
    "print(f\"Median price: {median_price}, \\nMean price: {mean_price}\")\n",
    "\n",
    "condition = house_prices[\"Average price All property types\"] < mean_price\n",
    "\n",
    "less_than_mean\n",
    "# calculate total change in house price over time"
   ]
  },
  {
   "cell_type": "code",
   "execution_count": 45,
   "id": "7a61c00a",
   "metadata": {},
   "outputs": [
    {
     "data": {
      "text/plain": [
       "0       6\n",
       "1      14\n",
       "2       8\n",
       "3      11\n",
       "4       6\n",
       "       ..\n",
       "327    15\n",
       "328     7\n",
       "329     4\n",
       "330    12\n",
       "331     4\n",
       "Name: age_delta, Length: 332, dtype: int64"
      ]
     },
     "execution_count": 45,
     "metadata": {},
     "output_type": "execute_result"
    }
   ],
   "source": [
    "child_data[\"PersonBirthDate_dt\"]\n",
    "collection_end=pd.to_datetime(\"31/03/2026\",format=\"%d/%m/%Y\")\n",
    "child_data[\"age_delta\"] = collection_end - child_data[\"PersonBirthDate_dt\"]\n",
    "child_data[\"age_delta\"]= child_data[\"age_delta\"]/pd.Timedelta(365.25,\"d\")\n",
    "child_data[\"age_delta\"]=child_data[\"age_delta\"].astype(\"int\")\n",
    "child_data[\"age_delta\"]\n",
    "\n"
   ]
  },
  {
   "cell_type": "code",
   "execution_count": 48,
   "id": "ff57ec46",
   "metadata": {},
   "outputs": [
    {
     "name": "stdout",
     "output_type": "stream",
     "text": [
      "Max age: 21, \n",
      "Min age: 3\n",
      "Median age: 12.0, \n",
      "Mean age: 12.289156626506024\n"
     ]
    }
   ],
   "source": [
    "max_age = child_data[\"age_delta\"].max()\n",
    "min_age = child_data[\"age_delta\"].min()\n",
    "print(f\"Max age: {max_age}, \\nMin age: {min_age}\")\n",
    "median_age= child_data[\"age_delta\"].median()\n",
    "mean_age = child_data[\"age_delta\"].mean()\n",
    "\n",
    "print(f\"Median age: {median_age}, \\nMean age: {mean_age}\")\n",
    "\n",
    "condition = child_data[\"age_delta\"] < mean_age"
   ]
  }
 ],
 "metadata": {
  "kernelspec": {
   "display_name": "Python 3",
   "language": "python",
   "name": "python3"
  },
  "language_info": {
   "codemirror_mode": {
    "name": "ipython",
    "version": 3
   },
   "file_extension": ".py",
   "mimetype": "text/x-python",
   "name": "python",
   "nbconvert_exporter": "python",
   "pygments_lexer": "ipython3",
   "version": "3.12.1"
  }
 },
 "nbformat": 4,
 "nbformat_minor": 5
}
