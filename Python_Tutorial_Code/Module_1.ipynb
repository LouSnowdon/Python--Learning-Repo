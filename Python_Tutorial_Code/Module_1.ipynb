{
 "cells": [
  {
   "cell_type": "code",
   "execution_count": 3,
   "id": "f05e2f4f",
   "metadata": {},
   "outputs": [
    {
     "name": "stdout",
     "output_type": "stream",
     "text": [
      "7\n"
     ]
    }
   ],
   "source": [
    "x = 4\n",
    "y = 3\n",
    "z = x + y\n",
    "print(z)\n",
    "\n"
   ]
  },
  {
   "cell_type": "code",
   "execution_count": 4,
   "id": "1aa8be32",
   "metadata": {},
   "outputs": [
    {
     "name": "stdout",
     "output_type": "stream",
     "text": [
      "5\n"
     ]
    }
   ],
   "source": [
    "i = 1\n",
    "j = 4\n",
    "print (i + j)\n"
   ]
  },
  {
   "cell_type": "code",
   "execution_count": 21,
   "id": "5045b2f2",
   "metadata": {},
   "outputs": [
    {
     "data": {
      "text/plain": [
       "'50'"
      ]
     },
     "execution_count": 21,
     "metadata": {},
     "output_type": "execute_result"
    }
   ],
   "source": [
    "x=5\n",
    "y=10\n",
    "z=x*y\n",
    "z=str(z)\n",
    "z\n",
    "\n",
    "\n"
   ]
  },
  {
   "cell_type": "code",
   "execution_count": 23,
   "id": "b69a6a18",
   "metadata": {},
   "outputs": [
    {
     "data": {
      "text/plain": [
       "12"
      ]
     },
     "execution_count": 23,
     "metadata": {},
     "output_type": "execute_result"
    }
   ],
   "source": [
    "a=2\n",
    "b=6\n",
    "c=a*b\n",
    "c"
   ]
  },
  {
   "cell_type": "code",
   "execution_count": 26,
   "id": "5b1d1ccd",
   "metadata": {},
   "outputs": [
    {
     "data": {
      "text/plain": [
       "12.56"
      ]
     },
     "execution_count": 26,
     "metadata": {},
     "output_type": "execute_result"
    }
   ],
   "source": [
    "radius=2\n",
    "pi=3.14\n",
    "area=pi*(radius**2)\n",
    "area"
   ]
  },
  {
   "cell_type": "code",
   "execution_count": 32,
   "id": "2e065553",
   "metadata": {},
   "outputs": [
    {
     "data": {
      "text/plain": [
       "'Hi I am Louise'"
      ]
     },
     "execution_count": 32,
     "metadata": {},
     "output_type": "execute_result"
    }
   ],
   "source": [
    "p1=\"Hi I am\"\n",
    "\n",
    "p2=\"Louise\"\n",
    "cp=f\"{p1} {p2}\"\n",
    "cp"
   ]
  },
  {
   "cell_type": "code",
   "execution_count": null,
   "id": "f681fbde",
   "metadata": {},
   "outputs": [
    {
     "data": {
      "text/plain": [
       "'iIa oie'"
      ]
     },
     "execution_count": 37,
     "metadata": {},
     "output_type": "execute_result"
    }
   ],
   "source": [
    "cp[1::2]\n",
    "#python starts at zero, the words for position in python is index\n",
    "\n",
    "filename=\"ssda903_list1_csv\"\n",
    "fn=filename[:-4]\n"
   ]
  },
  {
   "cell_type": "code",
   "execution_count": 48,
   "id": "90813f23",
   "metadata": {},
   "outputs": [
    {
     "name": "stdout",
     "output_type": "stream",
     "text": [
      "dog \n",
      "cat\n",
      "racoon\n"
     ]
    }
   ],
   "source": [
    "phrase_3=\"dog cat racoon\"\n",
    "d=phrase_3[:4]\n",
    "c=phrase_3[4:7]\n",
    "r=phrase_3[-6:]\n",
    "print(d)\n",
    "print(c)\n",
    "print(r)"
   ]
  },
  {
   "cell_type": "code",
   "execution_count": 2,
   "id": "4e802851",
   "metadata": {},
   "outputs": [],
   "source": [
    "var_1 = 10 #integer\n",
    "Var_2=10.10 #float - number wih decimals\n",
    "var_3=\"10\" #string\n",
    "\n",
    "\n",
    "\n"
   ]
  },
  {
   "cell_type": "code",
   "execution_count": 11,
   "id": "bf2b5c92",
   "metadata": {},
   "outputs": [
    {
     "data": {
      "text/plain": [
       "list"
      ]
     },
     "execution_count": 11,
     "metadata": {},
     "output_type": "execute_result"
    }
   ],
   "source": [
    "#Lists - allow us to store lists of variables, indexed can be searched sorted\n",
    "#column names often lists\n",
    "\n",
    "#Dictionary - store variables in one object names (keys): value\n",
    "#filename<- keys, xlsx <-values\n",
    "#variable cant start with a number\n",
    "\n",
    "list_1=[\"hi\", \"Bye\"] #,-empty\n",
    "\n",
    "type(list_1)"
   ]
  },
  {
   "cell_type": "code",
   "execution_count": 10,
   "id": "195a24a4",
   "metadata": {},
   "outputs": [
    {
     "data": {
      "text/plain": [
       "['red', 'blue', 'green']"
      ]
     },
     "execution_count": 10,
     "metadata": {},
     "output_type": "execute_result"
    }
   ],
   "source": [
    "#lists keep their order(unless you change them)\n",
    "list_2=[10, 12, 9]\n",
    "\n",
    "list_2\n",
    "\n",
    "cols_1=[\"red\", \"blue\", \"green\"]\n",
    "\n",
    "cols_1"
   ]
  },
  {
   "cell_type": "code",
   "execution_count": null,
   "id": "c8b61d88",
   "metadata": {},
   "outputs": [
    {
     "data": {
      "text/plain": [
       "[2.2, 4]"
      ]
     },
     "execution_count": 20,
     "metadata": {},
     "output_type": "execute_result"
    }
   ],
   "source": [
    "List_3=[2.2, 4, \"red\"]\n",
    "List_3\n",
    "\n",
    "List_3[:2]\n",
    "\n",
    "#extends a list by indexcable elemnts of a string\n",
    "#append the whole thing to one elemnt"
   ]
  },
  {
   "cell_type": "code",
   "execution_count": 35,
   "id": "732547ba",
   "metadata": {},
   "outputs": [
    {
     "name": "stdout",
     "output_type": "stream",
     "text": [
      "['egg', 'bacon', 'chips']\n",
      "['egg', 'bacon', 'chips', 'beans']\n",
      "['egg', 'bacon', 'chips', 'beans', 'tomato', 'lettuce', 'onion']\n",
      "['egg', 'bacon', 'chips', 'beans', 'tomato', 'lettuce']\n"
     ]
    }
   ],
   "source": [
    "Foods_1=[\"egg\", \"bacon\", \"chips\"]\n",
    "print(Foods_1)\n",
    "Foods_1.append(\"beans\")\n",
    "print(Foods_1)\n",
    "Foods_2=[\"tomato\", \"lettuce\", \"onion\"]\n",
    "Foods_1.extend(Foods_2)\n",
    "print(Foods_1)\n",
    "\n",
    "Foods_1.remove(\"onion\")\n",
    "print(Foods_1)\n"
   ]
  },
  {
   "cell_type": "code",
   "execution_count": 54,
   "id": "b06452d0",
   "metadata": {},
   "outputs": [
    {
     "name": "stdout",
     "output_type": "stream",
     "text": [
      "['chicken', 'wraps']\n",
      "dict_values(['pasta', ['chicken', 'wraps'], {'monday': 'burgers', 'ROW': 'chips'}])\n",
      "dict_keys(['porto', 'KFC', 'Mcdonalds'])\n",
      "dict_items([('porto', 'pasta'), ('KFC', ['chicken', 'wraps']), ('Mcdonalds', {'monday': 'burgers', 'ROW': 'chips'})])\n"
     ]
    }
   ],
   "source": [
    "#keys : values\n",
    "Rest = {\"porto\":\"pasta\",\n",
    "        \"KFC\":[\"chicken\",\"wraps\"],\n",
    "        \"Mcdonalds\":{\"monday\":\"burgers\", \"ROW\":\"chips\"}}\n",
    "\n",
    "print(Rest[\"KFC\"])\n",
    "print(Rest.values())\n",
    "print(Rest.keys())\n",
    "print(Rest.items())\n"
   ]
  },
  {
   "cell_type": "code",
   "execution_count": null,
   "id": "23c11c7b",
   "metadata": {},
   "outputs": [
    {
     "name": "stdout",
     "output_type": "stream",
     "text": [
      "{'porto': 'pasta', 'KFC': ['chicken', 'wraps'], 'Mcdonalds': {'monday': 'burgers', 'ROW': 'chips'}, 'chippy': 'sausage'}\n",
      "['chicken', 'wraps']\n",
      "False\n"
     ]
    }
   ],
   "source": [
    "\n",
    "\n",
    "print(Rest)\n",
    "Rest[\"chippy\"]=\"sausage\" #add chippy to list\n",
    "print(Rest[\"KFC\"]) # add values \n",
    "print(\"coffee shop\" in Rest) # check if in list\n"
   ]
  }
 ],
 "metadata": {
  "kernelspec": {
   "display_name": "Python 3",
   "language": "python",
   "name": "python3"
  },
  "language_info": {
   "codemirror_mode": {
    "name": "ipython",
    "version": 3
   },
   "file_extension": ".py",
   "mimetype": "text/x-python",
   "name": "python",
   "nbconvert_exporter": "python",
   "pygments_lexer": "ipython3",
   "version": "3.12.1"
  }
 },
 "nbformat": 4,
 "nbformat_minor": 5
}
